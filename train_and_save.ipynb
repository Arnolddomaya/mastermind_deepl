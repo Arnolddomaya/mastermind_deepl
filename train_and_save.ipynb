{
 "cells": [
  {
   "cell_type": "code",
   "execution_count": 1,
   "metadata": {},
   "outputs": [
    {
     "name": "stderr",
     "output_type": "stream",
     "text": [
      "c:\\python36\\lib\\site-packages\\tensorflow\\python\\framework\\dtypes.py:526: FutureWarning: Passing (type, 1) or '1type' as a synonym of type is deprecated; in a future version of numpy, it will be understood as (type, (1,)) / '(1,)type'.\n",
      "  _np_qint8 = np.dtype([(\"qint8\", np.int8, 1)])\n",
      "c:\\python36\\lib\\site-packages\\tensorflow\\python\\framework\\dtypes.py:527: FutureWarning: Passing (type, 1) or '1type' as a synonym of type is deprecated; in a future version of numpy, it will be understood as (type, (1,)) / '(1,)type'.\n",
      "  _np_quint8 = np.dtype([(\"quint8\", np.uint8, 1)])\n",
      "c:\\python36\\lib\\site-packages\\tensorflow\\python\\framework\\dtypes.py:528: FutureWarning: Passing (type, 1) or '1type' as a synonym of type is deprecated; in a future version of numpy, it will be understood as (type, (1,)) / '(1,)type'.\n",
      "  _np_qint16 = np.dtype([(\"qint16\", np.int16, 1)])\n",
      "c:\\python36\\lib\\site-packages\\tensorflow\\python\\framework\\dtypes.py:529: FutureWarning: Passing (type, 1) or '1type' as a synonym of type is deprecated; in a future version of numpy, it will be understood as (type, (1,)) / '(1,)type'.\n",
      "  _np_quint16 = np.dtype([(\"quint16\", np.uint16, 1)])\n",
      "c:\\python36\\lib\\site-packages\\tensorflow\\python\\framework\\dtypes.py:530: FutureWarning: Passing (type, 1) or '1type' as a synonym of type is deprecated; in a future version of numpy, it will be understood as (type, (1,)) / '(1,)type'.\n",
      "  _np_qint32 = np.dtype([(\"qint32\", np.int32, 1)])\n",
      "c:\\python36\\lib\\site-packages\\tensorflow\\python\\framework\\dtypes.py:535: FutureWarning: Passing (type, 1) or '1type' as a synonym of type is deprecated; in a future version of numpy, it will be understood as (type, (1,)) / '(1,)type'.\n",
      "  np_resource = np.dtype([(\"resource\", np.ubyte, 1)])\n"
     ]
    }
   ],
   "source": [
    "from train import *"
   ]
  },
  {
   "cell_type": "code",
   "execution_count": null,
   "metadata": {},
   "outputs": [
    {
     "name": "stdout",
     "output_type": "stream",
     "text": [
      "Episode length: 16\n",
      "Episode length: 16\n",
      "Episode length: 16\n",
      "Episode length: 16\n",
      "Episode length: 16\n",
      "Episode length: 16\n",
      "Episode length: 16\n",
      "Episode length: 16\n",
      "Episode length: 16\n",
      "Episode length: 16\n",
      "Episode length: 16\n",
      "Episode length: 16\n",
      "Episode length: 16\n",
      "Episode length: 16\n",
      "Episode length: 16\n",
      "Episode length: 16\n",
      "Episode length: 16\n",
      "1/16\r"
     ]
    }
   ],
   "source": [
    "pol = train(\n",
    "    num_episodes=30, \n",
    "    save_every=50, \n",
    "    checkpoint_dir=\"checkpoints2\",\n",
    "    tensorboard_dir=\"tensorboard2\",\n",
    "    tboard_every=10)\n"
   ]
  },
  {
   "cell_type": "code",
   "execution_count": null,
   "metadata": {},
   "outputs": [],
   "source": [
    "pol"
   ]
  },
  {
   "cell_type": "code",
   "execution_count": 47,
   "metadata": {},
   "outputs": [
    {
     "data": {
      "text/plain": [
       "<policy.Policy at 0x19701cabb38>"
      ]
     },
     "execution_count": 47,
     "metadata": {},
     "output_type": "execute_result"
    }
   ],
   "source": [
    "pol"
   ]
  },
  {
   "cell_type": "code",
   "execution_count": 5,
   "metadata": {},
   "outputs": [],
   "source": [
    "import pickle"
   ]
  },
  {
   "cell_type": "code",
   "execution_count": null,
   "metadata": {},
   "outputs": [],
   "source": [
    "pickle.dump( favorite_color, open( \"save.p\", \"wb\" ) )\n",
    "favorite_color = pickle.load( open( \"save.p\", \"rb\" ) )"
   ]
  },
  {
   "cell_type": "code",
   "execution_count": 4,
   "metadata": {},
   "outputs": [],
   "source": [
    "from episode import *"
   ]
  },
  {
   "cell_type": "code",
   "execution_count": 48,
   "metadata": {},
   "outputs": [],
   "source": [
    "secret_idx = 4\n",
    "episode = Episode(pol, secret_idx)"
   ]
  },
  {
   "cell_type": "code",
   "execution_count": 57,
   "metadata": {},
   "outputs": [],
   "source": [
    "res = episode.generate()"
   ]
  },
  {
   "cell_type": "code",
   "execution_count": 59,
   "metadata": {},
   "outputs": [
    {
     "name": "stdout",
     "output_type": "stream",
     "text": [
      "[(1296, 15), (532, 2), (1002, 0), (10, 9), (1151, 0), (904, 5), (980, 0), (953, 0), (412, 2), (208, 5), (719, 0), (841, 0), (279, 0), (970, 2), (448, 5), (1126, 2)]\n",
      "15\n"
     ]
    }
   ],
   "source": [
    "print(res)\n",
    "#res.remove((1296, 15))\n",
    "print(len(res))"
   ]
  },
  {
   "cell_type": "code",
   "execution_count": 55,
   "metadata": {},
   "outputs": [],
   "source": [
    "def display_partie(history, secret_idx):\n",
    "    print(f\"target {Episode._number_from_index(secret_idx)}\")\n",
    "    for i, j in history:\n",
    "        guess = Episode._number_from_index(i)\n",
    "        result =  episode._feedback_from_guess(guess)\n",
    "        print(f\"guess {guess}, result {j}\")"
   ]
  },
  {
   "cell_type": "code",
   "execution_count": 60,
   "metadata": {},
   "outputs": [
    {
     "name": "stdout",
     "output_type": "stream",
     "text": [
      "target 0004\n",
      "guess 2244, result 2\n",
      "guess 4350, result 0\n",
      "guess 0014, result 9\n",
      "guess 5155, result 0\n",
      "guess 4104, result 5\n",
      "guess 4312, result 0\n",
      "guess 4225, result 0\n",
      "guess 1524, result 2\n",
      "guess 0544, result 5\n",
      "guess 3155, result 0\n",
      "guess 3521, result 0\n",
      "guess 1143, result 0\n",
      "guess 4254, result 2\n",
      "guess 2024, result 5\n",
      "guess 5114, result 2\n"
     ]
    }
   ],
   "source": [
    "display_partie(res, secret_idx)"
   ]
  },
  {
   "cell_type": "code",
   "execution_count": null,
   "metadata": {},
   "outputs": [],
   "source": []
  }
 ],
 "metadata": {
  "kernelspec": {
   "display_name": "Python 3",
   "language": "python",
   "name": "python3"
  },
  "language_info": {
   "codemirror_mode": {
    "name": "ipython",
    "version": 3
   },
   "file_extension": ".py",
   "mimetype": "text/x-python",
   "name": "python",
   "nbconvert_exporter": "python",
   "pygments_lexer": "ipython3",
   "version": "3.6.7"
  }
 },
 "nbformat": 4,
 "nbformat_minor": 2
}
