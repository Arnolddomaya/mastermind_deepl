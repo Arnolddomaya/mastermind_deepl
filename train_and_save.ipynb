{
 "cells": [
  {
   "cell_type": "code",
   "execution_count": 1,
   "metadata": {},
   "outputs": [
    {
     "name": "stderr",
     "output_type": "stream",
     "text": [
      "c:\\python36\\lib\\site-packages\\tensorflow\\python\\framework\\dtypes.py:526: FutureWarning: Passing (type, 1) or '1type' as a synonym of type is deprecated; in a future version of numpy, it will be understood as (type, (1,)) / '(1,)type'.\n",
      "  _np_qint8 = np.dtype([(\"qint8\", np.int8, 1)])\n",
      "c:\\python36\\lib\\site-packages\\tensorflow\\python\\framework\\dtypes.py:527: FutureWarning: Passing (type, 1) or '1type' as a synonym of type is deprecated; in a future version of numpy, it will be understood as (type, (1,)) / '(1,)type'.\n",
      "  _np_quint8 = np.dtype([(\"quint8\", np.uint8, 1)])\n",
      "c:\\python36\\lib\\site-packages\\tensorflow\\python\\framework\\dtypes.py:528: FutureWarning: Passing (type, 1) or '1type' as a synonym of type is deprecated; in a future version of numpy, it will be understood as (type, (1,)) / '(1,)type'.\n",
      "  _np_qint16 = np.dtype([(\"qint16\", np.int16, 1)])\n",
      "c:\\python36\\lib\\site-packages\\tensorflow\\python\\framework\\dtypes.py:529: FutureWarning: Passing (type, 1) or '1type' as a synonym of type is deprecated; in a future version of numpy, it will be understood as (type, (1,)) / '(1,)type'.\n",
      "  _np_quint16 = np.dtype([(\"quint16\", np.uint16, 1)])\n",
      "c:\\python36\\lib\\site-packages\\tensorflow\\python\\framework\\dtypes.py:530: FutureWarning: Passing (type, 1) or '1type' as a synonym of type is deprecated; in a future version of numpy, it will be understood as (type, (1,)) / '(1,)type'.\n",
      "  _np_qint32 = np.dtype([(\"qint32\", np.int32, 1)])\n",
      "c:\\python36\\lib\\site-packages\\tensorflow\\python\\framework\\dtypes.py:535: FutureWarning: Passing (type, 1) or '1type' as a synonym of type is deprecated; in a future version of numpy, it will be understood as (type, (1,)) / '(1,)type'.\n",
      "  np_resource = np.dtype([(\"resource\", np.ubyte, 1)])\n"
     ]
    }
   ],
   "source": [
    "from train import *"
   ]
  },
  {
   "cell_type": "code",
   "execution_count": 2,
   "metadata": {},
   "outputs": [
    {
     "name": "stdout",
     "output_type": "stream",
     "text": [
      "WARNING:tensorflow:From C:\\Users\\VTLD0448\\dev\\code\\school_projects\\renforcement\\deepR-mastermind\\policy.py:25: LSTMCell.__init__ (from tensorflow.python.ops.rnn_cell_impl) is deprecated and will be removed in a future version.\n",
      "Instructions for updating:\n",
      "This class is equivalent as tf.keras.layers.LSTMCell, and will be replaced by that in Tensorflow 2.0.\n",
      "WARNING:tensorflow:From C:\\Users\\VTLD0448\\dev\\code\\school_projects\\renforcement\\deepR-mastermind\\policy.py:26: MultiRNNCell.__init__ (from tensorflow.python.ops.rnn_cell_impl) is deprecated and will be removed in a future version.\n",
      "Instructions for updating:\n",
      "This class is equivalent as tf.keras.layers.StackedRNNCells, and will be replaced by that in Tensorflow 2.0.\n",
      "WARNING:tensorflow:From c:\\python36\\lib\\site-packages\\tensorflow\\python\\ops\\embedding_ops.py:132: colocate_with (from tensorflow.python.framework.ops) is deprecated and will be removed in a future version.\n",
      "Instructions for updating:\n",
      "Colocations handled automatically by placer.\n",
      "Episode:1, length: 16\n",
      "Episode:2, length: 2\n",
      "Episode:3, length: 4\n",
      "Episode:4, length: 2\n",
      "Episode:5, length: 16\n",
      "Episode:6, length: 2\n",
      "Episode:7, length: 16\n",
      "Episode:8, length: 16\n",
      "Episode:9, length: 16\n",
      "Episode:10, length: 9\n",
      "Episode:11, length: 7\n",
      "Episode:12, length: 16\n",
      "Episode:13, length: 8\n",
      "Episode:14, length: 2\n",
      "Episode:15, length: 5\n",
      "Episode:16, length: 6\n",
      "Episode:17, length: 3\n",
      "Episode:18, length: 15\n",
      "Episode:19, length: 10\n",
      "Episode:20, length: 16\n",
      "Episode:21, length: 10\n",
      "Episode:22, length: 13\n",
      "Episode:23, length: 16\n",
      "Episode:24, length: 16\n",
      "Episode:25, length: 16\n",
      "Episode:26, length: 16\n",
      "Episode:27, length: 16\n",
      "Episode:28, length: 8\n",
      "Episode:29, length: 14\n",
      "Episode:30, length: 8\n",
      "Episode:31, length: 12\n",
      "Episode:32, length: 7\n",
      "Episode:33, length: 5\n",
      "Episode:34, length: 6\n",
      "Episode:35, length: 16\n",
      "Episode:36, length: 8\n",
      "Episode:37, length: 8\n",
      "Episode:38, length: 2\n",
      "Episode:39, length: 5\n",
      "Episode:40, length: 16\n",
      "Episode:41, length: 10\n",
      "Episode:42, length: 5\n",
      "Episode:43, length: 13\n",
      "Episode:44, length: 9\n",
      "Episode:45, length: 16\n",
      "Episode:46, length: 10\n",
      "Episode:47, length: 16\n",
      "Episode:48, length: 14\n",
      "Episode:49, length: 7\n",
      "Episode:50, length: 3\n",
      "Episode:51, length: 2\n",
      "Episode:52, length: 16\n",
      "Episode:53, length: 6\n",
      "Episode:54, length: 7\n",
      "Episode:55, length: 11\n",
      "Episode:56, length: 12\n",
      "Episode:57, length: 8\n",
      "Episode:58, length: 15\n",
      "Episode:59, length: 2\n",
      "Episode:60, length: 4\n",
      "Episode:61, length: 2\n",
      "Episode:62, length: 16\n",
      "Episode:63, length: 7\n",
      "Episode:64, length: 9\n",
      "Episode:65, length: 13\n",
      "Episode:66, length: 16\n",
      "Episode:67, length: 3\n",
      "Episode:68, length: 3\n",
      "Episode:69, length: 4\n",
      "Episode:70, length: 15\n",
      "Episode:71, length: 9\n",
      "Episode:72, length: 14\n",
      "Episode:73, length: 10\n",
      "Episode:74, length: 5\n",
      "Episode:75, length: 8\n",
      "Episode:76, length: 3\n",
      "Episode:77, length: 16\n",
      "Episode:78, length: 13\n",
      "Episode:79, length: 4\n",
      "Episode:80, length: 16\n",
      "Episode:81, length: 9\n",
      "Episode:82, length: 5\n",
      "Episode:83, length: 3\n",
      "Episode:84, length: 16\n",
      "Episode:85, length: 9\n",
      "Episode:86, length: 16\n",
      "Episode:87, length: 4\n",
      "Episode:88, length: 3\n",
      "Episode:89, length: 5\n",
      "Episode:90, length: 2\n",
      "Episode:91, length: 4\n",
      "Episode:92, length: 5\n",
      "Episode:93, length: 4\n",
      "Episode:94, length: 7\n",
      "Episode:95, length: 3\n",
      "Episode:96, length: 7\n",
      "Episode:97, length: 7\n",
      "Episode:98, length: 6\n",
      "Episode:99, length: 2\n",
      "Episode:100, length: 14\n",
      "WARNING:tensorflow:Saver is deprecated, please switch to tf.train.Checkpoint or tf.keras.Model.save_weights for training checkpoints. When executing eagerly variables do not necessarily have unique names, and so the variable.name-based lookups Saver performs are error-prone.\n",
      "Episode:101, length: 3\n",
      "Episode:102, length: 5\n",
      "Episode:103, length: 2\n",
      "Episode:104, length: 16\n",
      "Episode:105, length: 3\n",
      "Episode:106, length: 10\n",
      "Episode:107, length: 16\n",
      "Episode:108, length: 6\n",
      "Episode:109, length: 16\n",
      "Episode:110, length: 15\n",
      "Episode:111, length: 16\n",
      "Episode:112, length: 4\n",
      "Episode:113, length: 4\n",
      "Episode:114, length: 11\n",
      "Episode:115, length: 16\n",
      "Episode:116, length: 4\n",
      "Episode:117, length: 2\n",
      "Episode:118, length: 12\n",
      "Episode:119, length: 2\n",
      "Episode:120, length: 6\n",
      "Episode:121, length: 4\n",
      "Episode:122, length: 5\n",
      "Episode:123, length: 16\n",
      "Episode:124, length: 3\n",
      "Episode:125, length: 5\n",
      "Episode:126, length: 7\n",
      "Episode:127, length: 15\n",
      "Episode:128, length: 4\n",
      "Episode:129, length: 16\n",
      "Episode:130, length: 4\n",
      "Episode:131, length: 3\n",
      "Episode:132, length: 5\n",
      "Episode:133, length: 7\n",
      "Episode:134, length: 14\n",
      "Episode:135, length: 8\n",
      "Episode:136, length: 2\n",
      "Episode:137, length: 16\n",
      "Episode:138, length: 16\n",
      "Episode:139, length: 16\n",
      "Episode:140, length: 6\n",
      "Episode:141, length: 4\n",
      "Episode:142, length: 6\n",
      "Episode:143, length: 2\n",
      "Episode:144, length: 12\n",
      "Episode:145, length: 9\n",
      "Episode:146, length: 6\n",
      "Episode:147, length: 16\n",
      "Episode:148, length: 16\n",
      "Episode:149, length: 6\n",
      "Episode:150, length: 6\n",
      "Episode:151, length: 11\n",
      "Episode:152, length: 16\n",
      "Episode:153, length: 2\n",
      "Episode:154, length: 3\n",
      "Episode:155, length: 6\n",
      "Episode:156, length: 6\n",
      "Episode:157, length: 3\n",
      "Episode:158, length: 10\n",
      "Episode:159, length: 3\n",
      "Episode:160, length: 5\n",
      "Episode:161, length: 11\n",
      "Episode:162, length: 16\n",
      "Episode:163, length: 9\n",
      "Episode:164, length: 14\n",
      "Episode:165, length: 10\n",
      "Episode:166, length: 5\n",
      "Episode:167, length: 16\n",
      "Episode:168, length: 16\n",
      "Episode:169, length: 16\n",
      "Episode:170, length: 2\n",
      "Episode:171, length: 11\n",
      "Episode:172, length: 16\n",
      "Episode:173, length: 16\n",
      "Episode:174, length: 4\n",
      "Episode:175, length: 9\n",
      "Episode:176, length: 4\n",
      "Episode:177, length: 15\n",
      "Episode:178, length: 7\n",
      "Episode:179, length: 2\n",
      "Episode:180, length: 8\n",
      "Episode:181, length: 3\n",
      "Episode:182, length: 16\n",
      "Episode:183, length: 5\n",
      "Episode:184, length: 5\n",
      "Episode:185, length: 6\n",
      "Episode:186, length: 9\n",
      "Episode:187, length: 5\n",
      "Episode:188, length: 8\n",
      "Episode:189, length: 12\n",
      "Episode:190, length: 16\n",
      "Episode:191, length: 3\n",
      "Episode:192, length: 16\n",
      "Episode:193, length: 16\n",
      "Episode:194, length: 3\n",
      "Episode:195, length: 7\n",
      "Episode:196, length: 7\n",
      "Episode:197, length: 9\n",
      "Episode:198, length: 5\n",
      "Episode:199, length: 5\n",
      "Episode:200, length: 16\n",
      "WARNING:tensorflow:Saver is deprecated, please switch to tf.train.Checkpoint or tf.keras.Model.save_weights for training checkpoints. When executing eagerly variables do not necessarily have unique names, and so the variable.name-based lookups Saver performs are error-prone.\n",
      "Episode:201, length: 2\n",
      "Episode:202, length: 10\n",
      "Episode:203, length: 7\n",
      "Episode:204, length: 7\n",
      "Episode:205, length: 15\n",
      "Episode:206, length: 6\n",
      "Episode:207, length: 7\n",
      "Episode:208, length: 7\n",
      "Episode:209, length: 11\n",
      "Episode:210, length: 2\n",
      "Episode:211, length: 3\n",
      "Episode:212, length: 2\n",
      "Episode:213, length: 4\n",
      "Episode:214, length: 12\n",
      "Episode:215, length: 7\n",
      "Episode:216, length: 16\n",
      "Episode:217, length: 16\n",
      "Episode:218, length: 16\n",
      "Episode:219, length: 4\n",
      "Episode:220, length: 3\n",
      "Episode:221, length: 16\n",
      "Episode:222, length: 3\n",
      "Episode:223, length: 16\n",
      "Episode:224, length: 6\n",
      "Episode:225, length: 7\n",
      "Episode:226, length: 16\n",
      "Episode:227, length: 5\n",
      "Episode:228, length: 2\n",
      "Episode:229, length: 2\n",
      "Episode:230, length: 16\n",
      "Episode:231, length: 5\n",
      "Episode:232, length: 16\n",
      "Episode:233, length: 4\n",
      "Episode:234, length: 7\n",
      "Episode:235, length: 10\n",
      "Episode:236, length: 3\n",
      "Episode:237, length: 6\n",
      "Episode:238, length: 16\n",
      "Episode:239, length: 16\n",
      "Episode:240, length: 10\n",
      "Episode:241, length: 16\n",
      "Episode:242, length: 16\n",
      "Episode:243, length: 16\n",
      "Episode:244, length: 11\n",
      "Episode:245, length: 7\n",
      "Episode:246, length: 16\n",
      "Episode:247, length: 16\n",
      "Episode:248, length: 5\n",
      "Episode:249, length: 16\n",
      "Episode:250, length: 4\n",
      "WARNING:tensorflow:Saver is deprecated, please switch to tf.train.Checkpoint or tf.keras.Model.save_weights for training checkpoints. When executing eagerly variables do not necessarily have unique names, and so the variable.name-based lookups Saver performs are error-prone.\n"
     ]
    }
   ],
   "source": [
    "pol = train(num_episodes=250, \n",
    "          save_every=100, \n",
    "          checkpoint_dir=\"checkpoints0\",\n",
    "          tensorboard_dir=\"tensorboard0\",\n",
    "          tboard_every=50,\n",
    "          find_target_prop = 0.1\n",
    "          )"
   ]
  },
  {
   "cell_type": "code",
   "execution_count": 3,
   "metadata": {},
   "outputs": [
    {
     "data": {
      "text/plain": [
       "<policy.Policy at 0x14eff6de128>"
      ]
     },
     "execution_count": 3,
     "metadata": {},
     "output_type": "execute_result"
    }
   ],
   "source": [
    "pol"
   ]
  },
  {
   "cell_type": "code",
   "execution_count": 4,
   "metadata": {},
   "outputs": [
    {
     "data": {
      "text/plain": [
       "<policy.Policy at 0x14eff6de128>"
      ]
     },
     "execution_count": 4,
     "metadata": {},
     "output_type": "execute_result"
    }
   ],
   "source": [
    "pol"
   ]
  },
  {
   "cell_type": "code",
   "execution_count": 6,
   "metadata": {},
   "outputs": [],
   "source": [
    "import pickle"
   ]
  },
  {
   "cell_type": "code",
   "execution_count": 8,
   "metadata": {},
   "outputs": [],
   "source": [
    "#pickle.dump(pol.guess_embedding, open( \"guess_embedding.p\", \"wb\" ) )\n",
    "#pickle.dump(pol.feedback_embedding, open( \"feedback_embedding.p\", \"wb\" ) )\n",
    "#pickle.dump(pol.lstm, open( \"lstm.p\", \"wb\" ) )"
   ]
  },
  {
   "cell_type": "code",
   "execution_count": null,
   "metadata": {},
   "outputs": [],
   "source": []
  },
  {
   "cell_type": "code",
   "execution_count": 5,
   "metadata": {},
   "outputs": [],
   "source": [
    "from episode import *"
   ]
  },
  {
   "cell_type": "code",
   "execution_count": 6,
   "metadata": {},
   "outputs": [],
   "source": [
    "secret_idx = 24\n",
    "episode = Episode(pol, secret_idx)"
   ]
  },
  {
   "cell_type": "code",
   "execution_count": 7,
   "metadata": {},
   "outputs": [],
   "source": [
    "res = episode.generate()"
   ]
  },
  {
   "cell_type": "code",
   "execution_count": 8,
   "metadata": {},
   "outputs": [
    {
     "name": "stdout",
     "output_type": "stream",
     "text": [
      "[(80, 2), (1121, 1), (638, 1), (197, 2), (1203, 0), (405, 0), (1193, 1), (56, 2), (1053, 0), (5, 8), (62, 3), (65, 3), (651, 4), (1143, 1), (695, 0)]\n",
      "15\n"
     ]
    }
   ],
   "source": [
    "res.remove((1296, 15))\n",
    "print(res)\n",
    "print(len(res))"
   ]
  },
  {
   "cell_type": "code",
   "execution_count": 9,
   "metadata": {},
   "outputs": [],
   "source": [
    "def display_partie(history, secret_idx):\n",
    "    print(f\"target {Episode._number_from_index(secret_idx)}\")\n",
    "    for i, j in history:\n",
    "        guess = Episode._number_from_index(i)\n",
    "        result =  episode._feedback_from_guess(guess)\n",
    "        print(f\"guess {guess}, result {j}\")"
   ]
  },
  {
   "cell_type": "code",
   "execution_count": 11,
   "metadata": {},
   "outputs": [
    {
     "name": "stdout",
     "output_type": "stream",
     "text": [
      "target 0040\n",
      "guess 0212, result 2\n",
      "guess 5105, result 1\n",
      "guess 2542, result 1\n",
      "guess 0525, result 2\n",
      "guess 5323, result 0\n",
      "guess 1513, result 0\n",
      "guess 5305, result 1\n",
      "guess 0132, result 2\n",
      "guess 4513, result 0\n",
      "guess 0005, result 8\n",
      "guess 0142, result 3\n",
      "guess 0145, result 3\n",
      "guess 3003, result 4\n",
      "guess 5143, result 1\n",
      "guess 3115, result 0\n"
     ]
    }
   ],
   "source": [
    "display_partie(res, secret_idx)"
   ]
  },
  {
   "cell_type": "code",
   "execution_count": 12,
   "metadata": {},
   "outputs": [],
   "source": [
    "def evaluate(nb_parties, policy):\n",
    "    total_win = 0\n",
    "    for i in range(nb_parties):\n",
    "        random_secret = random.randint(0, config.max_guesses - 1)\n",
    "        episode = Episode(policy, random_secret)\n",
    "        history = episode.generate()\n",
    "        #res.remove((1296, 15))\n",
    "        if ((random_secret, 14) in history):\n",
    "            total_win += 1\n",
    "        print(f\"{i+1}/{nb_parties}\")\n",
    "    print(f\"won {total_win} parties on {nb_parties} parties, percentage {total_win/nb_parties*100}%\")"
   ]
  },
  {
   "cell_type": "code",
   "execution_count": 13,
   "metadata": {},
   "outputs": [
    {
     "name": "stdout",
     "output_type": "stream",
     "text": [
      "1/20\n",
      "2/20\n",
      "3/20\n",
      "4/20\n",
      "5/20\n",
      "6/20\n",
      "7/20\n",
      "8/20\n",
      "9/20\n",
      "10/20\n",
      "11/20\n",
      "12/20\n",
      "13/20\n",
      "14/20\n",
      "15/20\n",
      "16/20\n",
      "17/20\n",
      "18/20\n",
      "19/20\n",
      "20/20\n",
      "won 0 parties on 20 parties, percentage 0.0%\n"
     ]
    }
   ],
   "source": [
    "evaluate(20, pol)"
   ]
  },
  {
   "cell_type": "code",
   "execution_count": null,
   "metadata": {},
   "outputs": [],
   "source": []
  }
 ],
 "metadata": {
  "kernelspec": {
   "display_name": "Python 3",
   "language": "python",
   "name": "python3"
  },
  "language_info": {
   "codemirror_mode": {
    "name": "ipython",
    "version": 3
   },
   "file_extension": ".py",
   "mimetype": "text/x-python",
   "name": "python",
   "nbconvert_exporter": "python",
   "pygments_lexer": "ipython3",
   "version": "3.6.7"
  }
 },
 "nbformat": 4,
 "nbformat_minor": 2
}
